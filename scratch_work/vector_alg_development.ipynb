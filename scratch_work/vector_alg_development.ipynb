{
 "cells": [
  {
   "cell_type": "markdown",
   "id": "d8d7943f-a5b1-494a-8695-93af6ebdde1d",
   "metadata": {},
   "source": [
    "# vector_alg_development\n",
    "\n",
    "The purpose of this notebook is to develop practice versions of\n",
    "an algorithm to convert strings to vectors in a way that\n",
    "converts string edit distance to Euclidean distance."
   ]
  },
  {
   "cell_type": "markdown",
   "id": "ebed3207-f1f8-4a52-9140-46b6ceed6e22",
   "metadata": {},
   "source": [
    "## Imports"
   ]
  },
  {
   "cell_type": "code",
   "execution_count": 37,
   "id": "2127bcd1-d36b-4a9e-a5d9-5a58ca2d75fb",
   "metadata": {},
   "outputs": [],
   "source": [
    "# Standard library imports\n",
    "import random\n",
    "\n",
    "# Third party libraries\n",
    "import faiss\n",
    "import numpy as np"
   ]
  },
  {
   "cell_type": "markdown",
   "id": "3d28004d-45c6-4465-9c36-2360de96a401",
   "metadata": {},
   "source": [
    "## 1. Simply respect replacement distance\n",
    "\n",
    "The first vectorization should give us exactly\n",
    "edit distance in Euclidean distance. This is actually\n",
    "impossible with one coordinate per base, so we'll\n",
    "use 3 (you need n-1 dimenions for an alphabet of size n)."
   ]
  },
  {
   "cell_type": "code",
   "execution_count": 2,
   "id": "5ca55d63-9882-4f76-8512-394a9e6f1645",
   "metadata": {},
   "outputs": [],
   "source": [
    "one_over_root_2 = 1 / np.sqrt(2)"
   ]
  },
  {
   "cell_type": "code",
   "execution_count": 3,
   "id": "396501ac-0c96-4d21-b969-0bbd154709a6",
   "metadata": {},
   "outputs": [
    {
     "data": {
      "text/plain": [
       "0.7071067811865475"
      ]
     },
     "execution_count": 3,
     "metadata": {},
     "output_type": "execute_result"
    }
   ],
   "source": [
    "one_over_root_2"
   ]
  },
  {
   "cell_type": "code",
   "execution_count": 4,
   "id": "abab7db0-4220-4d5c-85be-22ddb9a44fbe",
   "metadata": {},
   "outputs": [],
   "source": [
    "# These points are the vertices of a regular tetrahedron centered at the origin.\n",
    "# I found these values here:\n",
    "# https://en.wikipedia.org/wiki/Tetrahedron#Coordinates_for_a_regular_tetrahedron\n",
    "base_vecs = [\n",
    "    np.array([ 1,  0,  one_over_root_2]),\n",
    "    np.array([-1,  0,  one_over_root_2]),\n",
    "    np.array([ 0,  1, -one_over_root_2]),\n",
    "    np.array([ 0, -1, -one_over_root_2])\n",
    "]"
   ]
  },
  {
   "cell_type": "code",
   "execution_count": 5,
   "id": "c32a087c-5e8b-4aca-b521-63e0b309c8c7",
   "metadata": {},
   "outputs": [],
   "source": [
    "def dist(a, b):\n",
    "    return np.linalg.norm(a - b)"
   ]
  },
  {
   "cell_type": "code",
   "execution_count": 11,
   "id": "fc9b5699-9e3b-4ff2-bbfb-8a5e9414a06f",
   "metadata": {},
   "outputs": [
    {
     "name": "stdout",
     "output_type": "stream",
     "text": [
      "2.00\n",
      "2.00\n",
      "2.00\n",
      "2.00\n",
      "2.00\n",
      "2.00\n"
     ]
    }
   ],
   "source": [
    "# Confirm the base vectors are equidistant.\n",
    "for i in range(4):\n",
    "    for j in range(i + 1, 4):\n",
    "        print(f'{dist(base_vecs[i], base_vecs[j]):.2f}')"
   ]
  },
  {
   "cell_type": "code",
   "execution_count": 12,
   "id": "b3df75f6-7f17-4b40-a675-eb49ac02ef79",
   "metadata": {},
   "outputs": [
    {
     "data": {
      "text/plain": [
       "array([1, 2, 3, 4])"
      ]
     },
     "execution_count": 12,
     "metadata": {},
     "output_type": "execute_result"
    }
   ],
   "source": [
    "np.concatenate([[1, 2], [3, 4]])"
   ]
  },
  {
   "cell_type": "code",
   "execution_count": 14,
   "id": "54214880-70cb-4bc6-b096-74a9766351b8",
   "metadata": {},
   "outputs": [
    {
     "data": {
      "text/plain": [
       "1"
      ]
     },
     "execution_count": 14,
     "metadata": {},
     "output_type": "execute_result"
    }
   ],
   "source": [
    "list('ACGT').index('C')"
   ]
  },
  {
   "cell_type": "code",
   "execution_count": 15,
   "id": "9b036057-05c7-4a0c-a89c-d4308f8837ae",
   "metadata": {},
   "outputs": [],
   "source": [
    "# Convert a string to a vector.\n",
    "# Each character in s will be come three coordinates in the output string.\n",
    "# It's expected that s is a string from the alphabet 'ACGT'.\n",
    "def vec1(s):\n",
    "    return np.concatenate([base_vecs[list('ACGT').index(let)] for let in s])"
   ]
  },
  {
   "cell_type": "code",
   "execution_count": 20,
   "id": "2531d56c-f4dd-4303-b6b2-e6a1449340af",
   "metadata": {},
   "outputs": [],
   "source": [
    "vecs = [vec1('ACGT'), vec1('ACTT'), vec1('ACGA')]"
   ]
  },
  {
   "cell_type": "code",
   "execution_count": 21,
   "id": "2615d571-987a-4151-b52f-be847af3a50f",
   "metadata": {},
   "outputs": [
    {
     "name": "stdout",
     "output_type": "stream",
     "text": [
      "2.00\n",
      "2.00\n",
      "2.83\n"
     ]
    }
   ],
   "source": [
    "# Check pair-wise distances.\n",
    "for i in range(3):\n",
    "    for j in range(i + 1, 3):\n",
    "        print(f'{dist(vecs[i], vecs[j]):.2f}')"
   ]
  },
  {
   "cell_type": "code",
   "execution_count": 22,
   "id": "0b1e6d94-e5a7-4fa5-ac78-276cb4c3c734",
   "metadata": {},
   "outputs": [],
   "source": [
    "# That's good."
   ]
  },
  {
   "cell_type": "markdown",
   "id": "c61c8a6c-aa37-4882-9bae-b1f5866a4d92",
   "metadata": {},
   "source": [
    "## 2. Remember how to use faiss\n",
    "\n",
    "In this section, I plan to set up and query a vector index.\n",
    "\n",
    "My plan is to make a list of random vectors, index them, and check that\n",
    "I can successfully retrieve them even if I make small changes to the\n",
    "query vector."
   ]
  },
  {
   "cell_type": "code",
   "execution_count": 31,
   "id": "def3a795-932b-45c0-a6a2-f3587c21eb6b",
   "metadata": {},
   "outputs": [],
   "source": [
    "# This is the dimension I'll use for the test vectors.\n",
    "dimn = 10"
   ]
  },
  {
   "cell_type": "code",
   "execution_count": 34,
   "id": "49a5b5d3-bfee-439f-a81f-79e313d77e53",
   "metadata": {},
   "outputs": [],
   "source": [
    "# Make 1,000 random vectors.\n",
    "rand_vecs = np.random.rand(1_000, dimn)"
   ]
  },
  {
   "cell_type": "code",
   "execution_count": 36,
   "id": "37826698-9fe4-4c34-80bd-8d5db815b728",
   "metadata": {},
   "outputs": [],
   "source": [
    "# Build the index.\n",
    "vec_index = faiss.IndexFlatL2(dimn)\n",
    "vec_index.add(rand_vecs)"
   ]
  },
  {
   "cell_type": "code",
   "execution_count": 50,
   "id": "fbc3c52d-556a-4e50-b58b-7a15e73907de",
   "metadata": {},
   "outputs": [
    {
     "name": "stdout",
     "output_type": "stream",
     "text": [
      "142 [[142 553 512 346 927]] [[0.         0.33740926 0.37946406 0.43927175 0.45978835]]\n",
      "52 [[ 52 340 118 521 355]] [[0.         0.30508032 0.35074192 0.4079569  0.41953716]]\n",
      "377 [[377 867 839 638 502]] [[0.         0.39025795 0.51106936 0.5268204  0.54613125]]\n"
     ]
    }
   ],
   "source": [
    "# Confirm that exact lookups work.\n",
    "for _ in range(3):\n",
    "    idx = random.randint(0, 999)\n",
    "    distances, indices = vec_index.search(rand_vecs[idx].reshape(1, -1), 5)\n",
    "    print(idx, indices, distances)"
   ]
  },
  {
   "cell_type": "code",
   "execution_count": 51,
   "id": "8e56da63-b280-4b2b-bdd6-98a5e28a24e0",
   "metadata": {},
   "outputs": [],
   "source": [
    "# That looks like it's working correctly to me."
   ]
  },
  {
   "cell_type": "code",
   "execution_count": null,
   "id": "c0128075-667e-42fc-82cd-2fd688fbdd00",
   "metadata": {},
   "outputs": [],
   "source": []
  }
 ],
 "metadata": {
  "kernelspec": {
   "display_name": "Python 3 (ipykernel)",
   "language": "python",
   "name": "python3"
  },
  "language_info": {
   "codemirror_mode": {
    "name": "ipython",
    "version": 3
   },
   "file_extension": ".py",
   "mimetype": "text/x-python",
   "name": "python",
   "nbconvert_exporter": "python",
   "pygments_lexer": "ipython3",
   "version": "3.11.3"
  }
 },
 "nbformat": 4,
 "nbformat_minor": 5
}
